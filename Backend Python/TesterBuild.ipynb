{
 "cells": [
  {
   "cell_type": "code",
   "execution_count": null,
   "id": "b13454f6",
   "metadata": {},
   "outputs": [],
   "source": [
    "import pickle\n",
    "\n",
    "# Load the trained model from a pickle file\n",
    "with open('bodyfat_model_renew.pkl', 'rb') as file:\n",
    "    model = pickle.load(file)\n",
    "\n",
    "# Function to preprocess the input and make the prediction\n",
    "def bodyfat_prediction(Age, Weight, Height, Neck, Chest, Abdomen, Hip, Thigh, Knee, Ankle, Biceps, Forearm, Wrist):\n",
    "\n",
    "    # Prepare the input data\n",
    "    input_data = [ [Age, Weight, Height, Neck, Chest, Abdomen, Hip, Thigh, Knee, Ankle, Biceps, Forearm, Wrist]]\n",
    "\n",
    "    # Make the prediction\n",
    "    bodyfat_prediction = model.predict(input_data)\n",
    "\n",
    "    # Return the prediction\n",
    "    return bodyfat_prediction[0]\n",
    "\n",
    "# Example usage\n",
    "Age = 0 #in years\n",
    "Weight = 0 (#in pounds)\n",
    "Height = 0 (#in cms)\n",
    "Neck = 0 (#in cms)\n",
    "Chest = 0 (#in cms)\n",
    "Abdomen = 0 (#in cms)\n",
    "Hip = 0 (#in cms) \n",
    "Thigh = 0 (#in cms)\n",
    "Knee = 0 (#in cms)\n",
    "Ankle = 0 (#in cms)\n",
    "Biceps = 0 (#in cms)\n",
    "Forearm = 0 (#in cms)\n",
    "Wrist = 0 (#in cms)\n",
    "\n",
    "prediction = bodyfat_prediction(Age, weight, Height, Neck, Chest, Abdomen, Hip, Thigh, Knee, Ankle, Biceps, Forearm, Wrist)\n",
    "\n",
    "print(str(prediction[0]*100)+\"%\")\n"
   ]
  }
 ],
 "metadata": {
  "kernelspec": {
   "display_name": "Python 3 (ipykernel)",
   "language": "python",
   "name": "python3"
  },
  "language_info": {
   "codemirror_mode": {
    "name": "ipython",
    "version": 3
   },
   "file_extension": ".py",
   "mimetype": "text/x-python",
   "name": "python",
   "nbconvert_exporter": "python",
   "pygments_lexer": "ipython3",
   "version": "3.10.9"
  }
 },
 "nbformat": 4,
 "nbformat_minor": 5
}
